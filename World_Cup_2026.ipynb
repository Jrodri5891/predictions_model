{
 "cells": [
  {
   "cell_type": "code",
   "execution_count": 110,
   "metadata": {},
   "outputs": [],
   "source": [
    "import pandas as pd"
   ]
  },
  {
   "cell_type": "code",
   "execution_count": 111,
   "metadata": {},
   "outputs": [
    {
     "data": {
      "text/html": [
       "<div>\n",
       "<style scoped>\n",
       "    .dataframe tbody tr th:only-of-type {\n",
       "        vertical-align: middle;\n",
       "    }\n",
       "\n",
       "    .dataframe tbody tr th {\n",
       "        vertical-align: top;\n",
       "    }\n",
       "\n",
       "    .dataframe thead th {\n",
       "        text-align: right;\n",
       "    }\n",
       "</style>\n",
       "<table border=\"1\" class=\"dataframe\">\n",
       "  <thead>\n",
       "    <tr style=\"text-align: right;\">\n",
       "      <th></th>\n",
       "      <th>team1</th>\n",
       "      <th>team2</th>\n",
       "      <th>possession team1</th>\n",
       "      <th>possession team2</th>\n",
       "      <th>possession in contest</th>\n",
       "      <th>number of goals team1</th>\n",
       "      <th>number of goals team2</th>\n",
       "      <th>total attempts team1</th>\n",
       "      <th>total attempts team2</th>\n",
       "      <th>conceded team1</th>\n",
       "      <th>...</th>\n",
       "      <th>penalties scored team1</th>\n",
       "      <th>penalties scored team2</th>\n",
       "      <th>goal preventions team1</th>\n",
       "      <th>goal preventions team2</th>\n",
       "      <th>own goals team1</th>\n",
       "      <th>own goals team2</th>\n",
       "      <th>forced turnovers team1</th>\n",
       "      <th>forced turnovers team2</th>\n",
       "      <th>defensive pressures applied team1</th>\n",
       "      <th>defensive pressures applied team2</th>\n",
       "    </tr>\n",
       "  </thead>\n",
       "  <tbody>\n",
       "    <tr>\n",
       "      <th>0</th>\n",
       "      <td>QATAR</td>\n",
       "      <td>ECUADOR</td>\n",
       "      <td>42%</td>\n",
       "      <td>50%</td>\n",
       "      <td>8%</td>\n",
       "      <td>0</td>\n",
       "      <td>2</td>\n",
       "      <td>5</td>\n",
       "      <td>6</td>\n",
       "      <td>2</td>\n",
       "      <td>...</td>\n",
       "      <td>0</td>\n",
       "      <td>1</td>\n",
       "      <td>6</td>\n",
       "      <td>5</td>\n",
       "      <td>0</td>\n",
       "      <td>0</td>\n",
       "      <td>52</td>\n",
       "      <td>72</td>\n",
       "      <td>256</td>\n",
       "      <td>279</td>\n",
       "    </tr>\n",
       "    <tr>\n",
       "      <th>1</th>\n",
       "      <td>ENGLAND</td>\n",
       "      <td>IRAN</td>\n",
       "      <td>72%</td>\n",
       "      <td>19%</td>\n",
       "      <td>9%</td>\n",
       "      <td>6</td>\n",
       "      <td>2</td>\n",
       "      <td>13</td>\n",
       "      <td>8</td>\n",
       "      <td>2</td>\n",
       "      <td>...</td>\n",
       "      <td>0</td>\n",
       "      <td>1</td>\n",
       "      <td>8</td>\n",
       "      <td>13</td>\n",
       "      <td>0</td>\n",
       "      <td>0</td>\n",
       "      <td>63</td>\n",
       "      <td>72</td>\n",
       "      <td>139</td>\n",
       "      <td>416</td>\n",
       "    </tr>\n",
       "    <tr>\n",
       "      <th>2</th>\n",
       "      <td>SENEGAL</td>\n",
       "      <td>NETHERLANDS</td>\n",
       "      <td>44%</td>\n",
       "      <td>45%</td>\n",
       "      <td>11%</td>\n",
       "      <td>0</td>\n",
       "      <td>2</td>\n",
       "      <td>14</td>\n",
       "      <td>9</td>\n",
       "      <td>2</td>\n",
       "      <td>...</td>\n",
       "      <td>0</td>\n",
       "      <td>0</td>\n",
       "      <td>9</td>\n",
       "      <td>15</td>\n",
       "      <td>0</td>\n",
       "      <td>0</td>\n",
       "      <td>63</td>\n",
       "      <td>73</td>\n",
       "      <td>263</td>\n",
       "      <td>251</td>\n",
       "    </tr>\n",
       "    <tr>\n",
       "      <th>3</th>\n",
       "      <td>UNITED STATES</td>\n",
       "      <td>WALES</td>\n",
       "      <td>51%</td>\n",
       "      <td>39%</td>\n",
       "      <td>10%</td>\n",
       "      <td>1</td>\n",
       "      <td>1</td>\n",
       "      <td>6</td>\n",
       "      <td>7</td>\n",
       "      <td>1</td>\n",
       "      <td>...</td>\n",
       "      <td>0</td>\n",
       "      <td>1</td>\n",
       "      <td>7</td>\n",
       "      <td>7</td>\n",
       "      <td>0</td>\n",
       "      <td>0</td>\n",
       "      <td>81</td>\n",
       "      <td>72</td>\n",
       "      <td>242</td>\n",
       "      <td>292</td>\n",
       "    </tr>\n",
       "    <tr>\n",
       "      <th>4</th>\n",
       "      <td>ARGENTINA</td>\n",
       "      <td>SAUDI ARABIA</td>\n",
       "      <td>64%</td>\n",
       "      <td>24%</td>\n",
       "      <td>12%</td>\n",
       "      <td>1</td>\n",
       "      <td>2</td>\n",
       "      <td>14</td>\n",
       "      <td>3</td>\n",
       "      <td>2</td>\n",
       "      <td>...</td>\n",
       "      <td>1</td>\n",
       "      <td>0</td>\n",
       "      <td>4</td>\n",
       "      <td>14</td>\n",
       "      <td>0</td>\n",
       "      <td>0</td>\n",
       "      <td>65</td>\n",
       "      <td>80</td>\n",
       "      <td>163</td>\n",
       "      <td>361</td>\n",
       "    </tr>\n",
       "  </tbody>\n",
       "</table>\n",
       "<p>5 rows × 85 columns</p>\n",
       "</div>"
      ],
      "text/plain": [
       "           team1         team2 possession team1 possession team2  \\\n",
       "0          QATAR       ECUADOR              42%              50%   \n",
       "1        ENGLAND          IRAN              72%              19%   \n",
       "2        SENEGAL   NETHERLANDS              44%              45%   \n",
       "3  UNITED STATES         WALES              51%              39%   \n",
       "4      ARGENTINA  SAUDI ARABIA              64%              24%   \n",
       "\n",
       "  possession in contest  number of goals team1  number of goals team2  \\\n",
       "0                    8%                      0                      2   \n",
       "1                    9%                      6                      2   \n",
       "2                   11%                      0                      2   \n",
       "3                   10%                      1                      1   \n",
       "4                   12%                      1                      2   \n",
       "\n",
       "   total attempts team1  total attempts team2  conceded team1  ...  \\\n",
       "0                     5                     6               2  ...   \n",
       "1                    13                     8               2  ...   \n",
       "2                    14                     9               2  ...   \n",
       "3                     6                     7               1  ...   \n",
       "4                    14                     3               2  ...   \n",
       "\n",
       "   penalties scored team1  penalties scored team2  goal preventions team1  \\\n",
       "0                       0                       1                       6   \n",
       "1                       0                       1                       8   \n",
       "2                       0                       0                       9   \n",
       "3                       0                       1                       7   \n",
       "4                       1                       0                       4   \n",
       "\n",
       "   goal preventions team2  own goals team1  own goals team2  \\\n",
       "0                       5                0                0   \n",
       "1                      13                0                0   \n",
       "2                      15                0                0   \n",
       "3                       7                0                0   \n",
       "4                      14                0                0   \n",
       "\n",
       "   forced turnovers team1  forced turnovers team2  \\\n",
       "0                      52                      72   \n",
       "1                      63                      72   \n",
       "2                      63                      73   \n",
       "3                      81                      72   \n",
       "4                      65                      80   \n",
       "\n",
       "   defensive pressures applied team1  defensive pressures applied team2  \n",
       "0                                256                                279  \n",
       "1                                139                                416  \n",
       "2                                263                                251  \n",
       "3                                242                                292  \n",
       "4                                163                                361  \n",
       "\n",
       "[5 rows x 85 columns]"
      ]
     },
     "execution_count": 111,
     "metadata": {},
     "output_type": "execute_result"
    }
   ],
   "source": [
    "wc_game_stats = pd.read_csv('Data/Fifa_world_cup_matches.csv')\n",
    "wc_game_stats = wc_game_stats.drop(columns=['hour', 'date', 'category'], axis=1)\n",
    "wc_game_stats.head()"
   ]
  },
  {
   "cell_type": "code",
   "execution_count": 112,
   "metadata": {},
   "outputs": [
    {
     "data": {
      "text/plain": [
       "0             QATAR\n",
       "1           ENGLAND\n",
       "2           SENEGAL\n",
       "3     UNITED STATES\n",
       "4         ARGENTINA\n",
       "          ...      \n",
       "59          ENGLAND\n",
       "60        ARGENTINA\n",
       "61           FRANCE\n",
       "62          CROATIA\n",
       "63        ARGENTINA\n",
       "Name: team1, Length: 64, dtype: object"
      ]
     },
     "execution_count": 112,
     "metadata": {},
     "output_type": "execute_result"
    }
   ],
   "source": [
    "wc_game_stats.columns = wc_game_stats.columns.str.strip()\n",
    "wc_game_stats['team1']"
   ]
  },
  {
   "cell_type": "code",
   "execution_count": 113,
   "metadata": {},
   "outputs": [],
   "source": [
    "from sklearn.preprocessing import LabelEncoder\n",
    "\n",
    "encoder = LabelEncoder()\n",
    "wc_game_stats['team1'] = encoder.fit_transform(wc_game_stats['team1'])\n",
    "wc_game_stats['team2'] = encoder.fit_transform(wc_game_stats['team2'])\n"
   ]
  },
  {
   "cell_type": "code",
   "execution_count": 114,
   "metadata": {},
   "outputs": [],
   "source": [
    "wc_game_stats['match_result'] = wc_game_stats['number of goals team1'] > wc_game_stats['number of goals team2']\n"
   ]
  },
  {
   "cell_type": "code",
   "execution_count": 115,
   "metadata": {},
   "outputs": [],
   "source": [
    "wc_game_stats['possession team1'] = wc_game_stats['possession team1'].astype(str)\n",
    "wc_game_stats['possession team2'] = wc_game_stats['possession team2'].astype(str)\n",
    "wc_game_stats['possession team1'] = wc_game_stats['possession team1'].str.rstrip('%').astype(float) / 100\n",
    "wc_game_stats['possession team2'] = wc_game_stats['possession team2'].str.rstrip('%').astype(float) / 100\n",
    "\n",
    "features = wc_game_stats[['possession team1', 'possession team2', 'total attempts team1', \n",
    "                          'total attempts team2', 'goal preventions team1', 'goal preventions team2']]\n",
    "target = wc_game_stats['match_result']\n"
   ]
  },
  {
   "cell_type": "code",
   "execution_count": 116,
   "metadata": {},
   "outputs": [],
   "source": [
    "from sklearn.preprocessing import StandardScaler\n",
    "\n",
    "scaler = StandardScaler()\n",
    "scaled_features = scaler.fit_transform(features)"
   ]
  },
  {
   "cell_type": "code",
   "execution_count": 117,
   "metadata": {},
   "outputs": [],
   "source": [
    "from sklearn.model_selection import train_test_split\n",
    "\n",
    "X_train, X_test, y_train, y_test = train_test_split (\n",
    "                features,\n",
    "                target,\n",
    "                test_size=0.2,\n",
    "                train_size=0.8,\n",
    "                random_state= 2\n",
    ")"
   ]
  },
  {
   "cell_type": "code",
   "execution_count": 118,
   "metadata": {},
   "outputs": [],
   "source": [
    "import torch\n",
    "import torch.nn as nn\n",
    "import torch.optim as optim\n",
    "\n",
    "class FootballPredictionModel(nn.Module):\n",
    "    def __init__(self, input_size):\n",
    "        super(FootballPredictionModel, self).__init__()\n",
    "        self.fc1 = nn.Linear(input_size, 64)  \n",
    "        self.fc2 = nn.Linear(64, 32)  \n",
    "        self.fc3 = nn.Linear(32, 1)  \n",
    "        self.sigmoid = nn.Sigmoid()  \n",
    "\n",
    "    def forward(self, x):\n",
    "        x = torch.relu(self.fc1(x))\n",
    "        x = torch.relu(self.fc2(x))\n",
    "        x = self.sigmoid(self.fc3(x))\n",
    "        return x\n",
    "\n",
    "input_size = X_train.shape[1]\n",
    "model = FootballPredictionModel(input_size)\n"
   ]
  },
  {
   "cell_type": "code",
   "execution_count": 119,
   "metadata": {},
   "outputs": [],
   "source": [
    "loss = nn.BCELoss()\n",
    "optimizer = optim.Adam(model.parameters(), lr=0.001)\n"
   ]
  },
  {
   "cell_type": "code",
   "execution_count": 120,
   "metadata": {},
   "outputs": [
    {
     "name": "stdout",
     "output_type": "stream",
     "text": [
      "Epoch 100/1000, BCE: 0.5964484214782715 \n",
      "Epoch 200/1000, BCE: 0.48429736495018005 \n",
      "Epoch 300/1000, BCE: 0.4026091694831848 \n",
      "Epoch 400/1000, BCE: 0.37128496170043945 \n",
      "Epoch 500/1000, BCE: 0.3480484187602997 \n",
      "Epoch 600/1000, BCE: 0.3267176151275635 \n",
      "Epoch 700/1000, BCE: 0.3038678765296936 \n",
      "Epoch 800/1000, BCE: 0.2804920971393585 \n",
      "Epoch 900/1000, BCE: 0.26034805178642273 \n",
      "Epoch 1000/1000, BCE: 0.24396514892578125 \n"
     ]
    }
   ],
   "source": [
    "num_epochs = 1000\n",
    "\n",
    "for epochs in range(num_epochs):\n",
    "    inputs = torch.tensor(X_train.values, dtype=torch.float32)\n",
    "    labels = torch.tensor(y_train.values, dtype=torch.float32).view(-1, 1)\n",
    "\n",
    "    prediction = model(inputs)\n",
    "    BCE = loss(prediction, labels)\n",
    "\n",
    "    BCE.backward()\n",
    "    optimizer.step()\n",
    "    optimizer.zero_grad()\n",
    "\n",
    "    if(epochs + 1) % 100 == 0:\n",
    "        print(f\"Epoch {epochs + 1}/{num_epochs}, BCE: {BCE.item()} \")"
   ]
  },
  {
   "cell_type": "code",
   "execution_count": 121,
   "metadata": {},
   "outputs": [
    {
     "name": "stdout",
     "output_type": "stream",
     "text": [
      "Accuracy: 0.6923\n"
     ]
    }
   ],
   "source": [
    "model.eval()\n",
    "test_inputs = torch.tensor(X_test.values, dtype=torch.float32)\n",
    "test_labels = torch.tensor(y_test.values, dtype=torch.float32).view(-1, 1)\n",
    "\n",
    "\n",
    "with torch.no_grad():\n",
    "    test_predictions = model(test_inputs)\n",
    "\n",
    "# Convert predictions to class labels (0 or 1)\n",
    "predicted_classes = (test_predictions > 0.5).int()\n",
    "accuracy = (predicted_classes == test_labels).float().mean()\n",
    "print(f'Accuracy: {accuracy.item():.4f}')"
   ]
  },
  {
   "cell_type": "code",
   "execution_count": 122,
   "metadata": {},
   "outputs": [
    {
     "name": "stdout",
     "output_type": "stream",
     "text": [
      "Confusion Matrix:\n",
      " [[4 2]\n",
      " [2 5]]\n"
     ]
    }
   ],
   "source": [
    "from sklearn.metrics import confusion_matrix\n",
    "cm = confusion_matrix(test_labels, predicted_classes)\n",
    "print(\"Confusion Matrix:\\n\", cm)\n"
   ]
  },
  {
   "cell_type": "code",
   "execution_count": 123,
   "metadata": {},
   "outputs": [
    {
     "name": "stdout",
     "output_type": "stream",
     "text": [
      "Precision: 0.7143, Recall: 0.7143, F1 Score: 0.7143\n"
     ]
    }
   ],
   "source": [
    "from sklearn.metrics import precision_score, recall_score, f1_score\n",
    "precision = precision_score(test_labels, predicted_classes)\n",
    "recall = recall_score(test_labels, predicted_classes)\n",
    "f1 = f1_score(test_labels, predicted_classes)\n",
    "print(f'Precision: {precision:.4f}, Recall: {recall:.4f}, F1 Score: {f1:.4f}')\n"
   ]
  },
  {
   "cell_type": "code",
   "execution_count": 126,
   "metadata": {},
   "outputs": [
    {
     "name": "stderr",
     "output_type": "stream",
     "text": [
      "c:\\Users\\rgonz\\AppData\\Local\\Programs\\Python\\Python312\\Lib\\site-packages\\numpy\\ma\\core.py:2846: RuntimeWarning: invalid value encountered in cast\n",
      "  _data = np.array(data, dtype=dtype, copy=copy,\n"
     ]
    },
    {
     "name": "stdout",
     "output_type": "stream",
     "text": [
      "Best Parameters: {'max_depth': 5, 'n_estimators': 100}\n"
     ]
    }
   ],
   "source": [
    "from sklearn.ensemble import RandomForestClassifier\n",
    "from sklearn.model_selection import GridSearchCV\n",
    "\n",
    "model = RandomForestClassifier()\n",
    "\n",
    "parameters = {'n_estimators': [50, 100, 200], 'max_depth': [5, 10, 20]}\n",
    "\n",
    "grid_search = GridSearchCV(estimator=model, param_grid=parameters)\n",
    "\n",
    "grid_search.fit(X_train, y_train)\n",
    "\n",
    "print(\"Best Parameters:\", grid_search.best_params_)\n"
   ]
  },
  {
   "cell_type": "code",
   "execution_count": 128,
   "metadata": {},
   "outputs": [],
   "source": [
    "torch.save(model, 'futbol_model.pth') \n"
   ]
  },
  {
   "cell_type": "code",
   "execution_count": 140,
   "metadata": {},
   "outputs": [],
   "source": [
    "from sklearn.base import BaseEstimator, ClassifierMixin\n",
    "import torch\n",
    "import torch.nn as nn\n",
    "import torch.optim as optim\n",
    "\n",
    "class PyTorchModelWrapper(BaseEstimator, ClassifierMixin):\n",
    "    def __init__(self, input_size, learning_rate=0.001, epochs=100):\n",
    "        # Initialize the PyTorch model\n",
    "        self.input_size = input_size\n",
    "        self.model = FutbolPredictionModel(input_size)  # Assuming you already defined FutbolPredictionModel\n",
    "        self.learning_rate = learning_rate\n",
    "        self.epochs = epochs\n",
    "        self.criterion = nn.BCEWithLogitsLoss()  # Binary Cross-Entropy loss\n",
    "        self.optimizer = optim.Adam(self.model.parameters(), lr=self.learning_rate)\n",
    "    \n",
    "    def fit(self, X, y):\n",
    "        # Convert the training data to PyTorch tensors\n",
    "        inputs = torch.tensor(X.values, dtype=torch.float32)\n",
    "        labels = torch.tensor(y.values, dtype=torch.float32).view(-1, 1)\n",
    "        \n",
    "        # Training loop\n",
    "        for epoch in range(self.epochs):\n",
    "            self.optimizer.zero_grad()  # Zero the gradients\n",
    "            outputs = self.model(inputs)  # Get model outputs\n",
    "            loss = self.criterion(outputs, labels)  # Calculate loss\n",
    "            loss.backward()  # Backpropagate\n",
    "            self.optimizer.step()  # Update the model weights\n",
    "        \n",
    "        return self\n",
    "\n",
    "    def predict(self, X):\n",
    "        # Convert the test data to PyTorch tensor\n",
    "        inputs = torch.tensor(X.values, dtype=torch.float32)\n",
    "        \n",
    "        # Get predictions\n",
    "        with torch.no_grad():  # Disable gradient calculation\n",
    "            outputs = self.model(inputs)\n",
    "        \n",
    "        # Convert logits to binary predictions\n",
    "        predictions = (outputs > 0.5).int()\n",
    "        return predictions.numpy()  # Convert to NumPy array for compatibility"
   ]
  },
  {
   "cell_type": "code",
   "execution_count": 142,
   "metadata": {},
   "outputs": [
    {
     "data": {
      "image/png": "[encoded data removed]",
      "text/plain": [
       "<Figure size 640x480 with 1 Axes>"
      ]
     },
     "metadata": {},
     "output_type": "display_data"
    }
   ],
   "source": [
    "from sklearn.metrics import roc_curve, auc\n",
    "import matplotlib.pyplot as plt\n",
    "\n",
    "fpr, tpr, thresholds = roc_curve(test_labels, test_predictions)\n",
    "roc_auc = auc(fpr, tpr)\n",
    "\n",
    "plt.figure()\n",
    "plt.plot(fpr, tpr, color='darkorange', lw=2, label=f'ROC curve (area = {roc_auc:.2f})')\n",
    "plt.plot([0, 1], [0, 1], color='navy', lw=2, linestyle='--')\n",
    "plt.xlim([0.0, 1.0])\n",
    "plt.ylim([0.0, 1.05])\n",
    "plt.xlabel('False Positive Rate')\n",
    "plt.ylabel('True Positive Rate')\n",
    "plt.title('Receiver Operating Characteristic')\n",
    "plt.legend(loc=\"lower right\")\n",
    "plt.show()\n"
   ]
  }
 ],
 "metadata": {
  "kernelspec": {
   "display_name": "Python 3",
   "language": "python",
   "name": "python3"
  },
  "language_info": {
   "codemirror_mode": {
    "name": "ipython",
    "version": 3
   },
   "file_extension": ".py",
   "mimetype": "text/x-python",
   "name": "python",
   "nbconvert_exporter": "python",
   "pygments_lexer": "ipython3",
   "version": "3.12.4"
  }
 },
 "nbformat": 4,
 "nbformat_minor": 2
}
